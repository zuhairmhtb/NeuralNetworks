{
 "cells": [
  {
   "cell_type": "code",
   "execution_count": 1,
   "id": "4f4184f9",
   "metadata": {},
   "outputs": [],
   "source": [
    "import numpy as np\n",
    "import matplotlib.pyplot as plt\n",
    "import tensorflow.keras.datasets.mnist as mnist"
   ]
  },
  {
   "cell_type": "markdown",
   "id": "20a0c651",
   "metadata": {},
   "source": [
    "# Neural Network from Scratch\n",
    "\n",
    "This notebook contains a detailed discussion and implementation of deep neural networks. Only numpy is used for matrix calculation. Rest of the code is developed from scratch. Each implementation contains an accompanying theoretical discussion along with it. It assumes that the reader has a basic understanding of vector calculation and how neural networks work."
   ]
  },
  {
   "cell_type": "code",
   "execution_count": null,
   "id": "c5acc0a4",
   "metadata": {},
   "outputs": [],
   "source": []
  },
  {
   "cell_type": "markdown",
   "id": "b0d4bd22",
   "metadata": {},
   "source": [
    "## Dataset\n",
    "\n",
    "MNIST handwritten digit dataset has been used for classification. The dataset contains 70,000 images of different digits (0-9). Each image is a 28x28 pixel grayscale image. The value of each pixel can be between 0 and 255 (inclusive). \n",
    "\n",
    "For the neural network, we convert the two dimensional image to a one dimensional vector consisting of 784 pixel values. Each pixel value is considered as a feature. We scale the value so that the value of each pixel ranges between 0 and 1 (inclusive).\n",
    "\n",
    "__Dataset Architecture:__\n",
    "\n",
    "Input shape [?, 784] : The input to the neural network contains a two dimensional matrix. The first dimension (?) contains the batch size (number of images provided to the network) and the second dimension (784) contains the number of features available for each sample.\n",
    "\n",
    "Output Label [?, 10]: The output of the network contains two dimensional matrix. The first dimension (?) contains the batch size (number of images provided to the network) and the second dimension (10) contains the number of output classes available for the network."
   ]
  },
  {
   "cell_type": "code",
   "execution_count": 4,
   "id": "4bf9e7f4",
   "metadata": {},
   "outputs": [
    {
     "name": "stdout",
     "output_type": "stream",
     "text": [
      "Train dataset shape: (60000, 28, 28), train label shape: (60000,)\n",
      "Test dataset shape: (10000, 28, 28), test label shape: (10000,)\n",
      "Pixel value range: 0.0 - 1.0\n"
     ]
    },
    {
     "data": {
      "image/png": "[encoded data removed]",
      "text/plain": [
       "<Figure size 640x480 with 1 Axes>"
      ]
     },
     "metadata": {},
     "output_type": "display_data"
    }
   ],
   "source": [
    "(X_train, y_train), (X_test, y_test) = mnist.load_data()\n",
    "\n",
    "X_train, X_test = X_train/255.0, X_test/255.0 # Scaling the dataset\n",
    "print(f\"Train dataset shape: {X_train.shape}, train label shape: {y_train.shape}\")\n",
    "print(f\"Test dataset shape: {X_test.shape}, test label shape: {y_test.shape}\")\n",
    "\n",
    "print(f\"Pixel value range: {np.min([np.min(X_train), np.min(X_test)])} - {np.max([np.max(X_train), np.max(X_test)])}\")\n",
    "\n",
    "plt.figure()\n",
    "i = np.random.randint(0, len(X_train))\n",
    "plt.title(\"Label: \" + str(y_train[i]))\n",
    "plt.imshow(X_train[i].reshape(28, 28), cmap='gray')\n",
    "plt.show()"
   ]
  },
  {
   "cell_type": "markdown",
   "id": "62de334f",
   "metadata": {},
   "source": [
    "## One hot encoding\n",
    "\n",
    "In the dataset, the output label of each image is a value between 0-9. However, when performing classification the output of the network needs to be a probability distribution of each output class. This means that if we have an image of the digit '2' and the output class is the number '2', we need to convert that output to a vector as follows: [0, 0, 1, 0, 0, 0, 0, 0, 0, 0]\n",
    "\n",
    "This process of converting a number to a vector is known as one-hot encoding. The network itself will provide the output as a one-hot encoded vector of probability distribution. We need to convert the train and test labels to the same form in order to compute the error between the predicted and true output."
   ]
  },
  {
   "cell_type": "code",
   "execution_count": 16,
   "id": "c018ab16",
   "metadata": {},
   "outputs": [],
   "source": [
    "def one_hot_encoded(y, total_classes):\n",
    "    \"\"\"\n",
    "    Calculates the one-hot encoded vector from the output label\n",
    "    @param y [1D numpy array]: A vector containing output labels\n",
    "    @param total_classes [int]: Number of total classes available in the output layer\n",
    "    \n",
    "    Returns [2D numpy array]: one-hot encoded vector for the output labels\n",
    "    \"\"\"\n",
    "    if len(y.shape) >= 2:\n",
    "        return y\n",
    "    encoded = np.zeros((y.shape[0], total_classes))\n",
    "    encoded[np.arange(y.shape[0]), y] = 1\n",
    "    return encoded"
   ]
  },
  {
   "cell_type": "code",
   "execution_count": 18,
   "id": "f32001bc",
   "metadata": {},
   "outputs": [
    {
     "name": "stdout",
     "output_type": "stream",
     "text": [
      "Label 0 : One hot encoded vector => [1. 0. 0. 0. 0. 0. 0. 0. 0. 0.]\n",
      "Label 1 : One hot encoded vector => [0. 1. 0. 0. 0. 0. 0. 0. 0. 0.]\n",
      "Label 2 : One hot encoded vector => [0. 0. 1. 0. 0. 0. 0. 0. 0. 0.]\n",
      "Label 3 : One hot encoded vector => [0. 0. 0. 1. 0. 0. 0. 0. 0. 0.]\n"
     ]
    }
   ],
   "source": [
    "sample_classes = np.array([0, 1, 2, 3])\n",
    "one_hot_encoded_classes = one_hot_encoded(sample_classes, 10)\n",
    "for i in range(len(sample_classes)):\n",
    "    print(f\"Label {sample_classes[i]} : One hot encoded vector => {one_hot_encoded_classes[i]}\")"
   ]
  },
  {
   "cell_type": "code",
   "execution_count": null,
   "id": "85bddb7c",
   "metadata": {},
   "outputs": [],
   "source": []
  },
  {
   "cell_type": "markdown",
   "id": "115e319b",
   "metadata": {},
   "source": [
    "## Activation Functions\n",
    "\n",
    "Activation functions are used to introduce non-linearity to the output of a specific layer. The following activation functions are used for the network:\n",
    "\n",
    "1. __Rectified Linear Unit (ReLU):__ This activation function is applied to the output of hidden layers. It reduces the likelihood of vanishing gradient. Furthermore, it introduces sparsity and it is easier to calculate the derivative of this function.\n",
    "\n",
    "\n",
    "2. __Softmax:__ This activation function is applied to the final output produced by the output layer. It is used to calculate the probablity distributio of each output class/label. This helps in classification."
   ]
  },
  {
   "cell_type": "code",
   "execution_count": null,
   "id": "d3220d46",
   "metadata": {},
   "outputs": [],
   "source": []
  },
  {
   "cell_type": "markdown",
   "id": "af9937a9",
   "metadata": {},
   "source": [
    "### ReLU\n",
    "\n",
    "\\begin{equation}\n",
    "Y = f(x) = \\begin{cases}\n",
    "0 \\text{ if } x < 0\\\\\n",
    "x \\text{ otherwise}\n",
    "\\end{cases}\n",
    "\\end{equation}\n",
    "\n",
    "ReLU replaces all negative numbers to zero. The derivative of ReLU is calculated as follows:\n",
    "\n",
    "\\begin{equation}\n",
    "Y' = f'(x) = \\begin{cases}\n",
    "0 \\text{ if } x = 0\\\\\n",
    "1 \\text{ otherwise}\n",
    "\\end{cases}\n",
    "\\end{equation}\n",
    "\n",
    "The slope of positive numbers are 1 as positive input to the function is same as the output of the function.\n",
    "\n"
   ]
  },
  {
   "cell_type": "code",
   "execution_count": 5,
   "id": "25d9938c",
   "metadata": {},
   "outputs": [],
   "source": [
    "def relu(x):\n",
    "    \"\"\"\n",
    "    Computes the ReLU activated output\n",
    "    @aram x [numpy array or int]: The non-activated output\n",
    "    Returns [numpy array or int]: The activated output\n",
    "    \"\"\"\n",
    "    return np.maximum(0.0, x)\n",
    "\n",
    "def derivative_relu(x):\n",
    "    \"\"\"\n",
    "    Computes the derivative of the ReLU activated output\n",
    "    @aram x [numpy array or int]: The activated output\n",
    "    Returns [numpy array or int]: The derivative of the activated output\n",
    "    \"\"\"\n",
    "    return np.where(x > 0, 1.0, 0.0)"
   ]
  },
  {
   "cell_type": "code",
   "execution_count": 8,
   "id": "282a8117",
   "metadata": {},
   "outputs": [
    {
     "data": {
      "image/png": "[encoded data removed]",
      "text/plain": [
       "<Figure size 640x480 with 1 Axes>"
      ]
     },
     "metadata": {},
     "output_type": "display_data"
    }
   ],
   "source": [
    "plt.figure()\n",
    "plt.title('ReLU')\n",
    "plt.plot(np.arange(-100, 100, 1), [relu(i) for i in np.arange(-100, 100, 1)])\n",
    "plt.grid()\n",
    "plt.show()"
   ]
  },
  {
   "cell_type": "markdown",
   "id": "e59f0e0d",
   "metadata": {},
   "source": [
    "### Softmax\n",
    "\n",
    "\\begin{equation}\n",
    "Y = f(x) = \\frac{e^{x - max(x)}}{\\sum_{i=0}^n e^{x - max(x)}}\n",
    "\\end{equation}\n",
    "\n",
    "Here, 'n' is the total number of output classes (as this function is applied to the output layer only) which is 10.\n",
    "\n",
    "Softmax takes each output (probability of class label) and exponentially increases it and finally scales it down to range between 0 and 1. It provides an advantage that the class output which has a higher probability is increased a lot (due to exponential increase) and after scaling becomes close to one. On the other hand, all other class labels become close to zero."
   ]
  },
  {
   "cell_type": "code",
   "execution_count": 6,
   "id": "abd2fa70",
   "metadata": {},
   "outputs": [],
   "source": [
    "def softmax(x):\n",
    "    \"\"\"\n",
    "    Computes the softmax activated output\n",
    "    @aram x [2D numpy array]: The non-activated output provided by output layer\n",
    "    Returns [2D numpy array]: The activated output provided by output layer\n",
    "    \"\"\"\n",
    "    exp_x =  np.exp(x - np.max(x, axis=1, keepdims=True))\n",
    "    return exp_x/np.sum(exp_x, axis=1, keepdims=True)"
   ]
  },
  {
   "cell_type": "code",
   "execution_count": 15,
   "id": "7c5ea447",
   "metadata": {},
   "outputs": [
    {
     "data": {
      "image/png": "[encoded data removed]",
      "text/plain": [
       "<Figure size 640x480 with 1 Axes>"
      ]
     },
     "metadata": {},
     "output_type": "display_data"
    }
   ],
   "source": [
    "x = np.array([[10, 11, 12, 13]])\n",
    "y = softmax(x)\n",
    "plt.figure()\n",
    "plt.title(f'Softmax - Total probability: {np.sum(y[0])}')\n",
    "plt.bar(x[0], y[0], width=0.4)\n",
    "plt.grid()\n",
    "plt.show()"
   ]
  },
  {
   "cell_type": "markdown",
   "id": "1a542cb6",
   "metadata": {},
   "source": [
    "## Optimizers\n",
    "\n",
    "When performing backpropagation algorithm, we normally use gradient descent to calculate the gradient of weights and biases of each layer. Optimization algorihms are a variant of gradient descent that is used to improve the performance of the backpropagation. We will use the following optimization algorithm:\n",
    "\n",
    "1. Adagrad\n",
    "\n",
    "2. RMSProp\n",
    "\n",
    "3. Adam\n",
    "\n",
    "Source: [https://www.geeksforgeeks.org/intuition-of-adam-optimizer/](https://www.geeksforgeeks.org/intuition-of-adam-optimizer/)"
   ]
  },
  {
   "cell_type": "code",
   "execution_count": 21,
   "id": "3956bf33",
   "metadata": {},
   "outputs": [],
   "source": [
    "def adagrad(momentum, gradient_of_weight, beta=0.9):\n",
    "    \"\"\"\n",
    "    Computes the adagrad optimization.\n",
    "    @param momentum [2D numpy array]: Current momentum\n",
    "    @param gradient_of_weight [2D numpy array]: Computed gradients of the weight of a layer\n",
    "    @param beta [float]: Decay rate of average gradient\n",
    "    Returns updated momentum and gradient_of_weight\n",
    "    \"\"\"\n",
    "    momentum = (beta * momentum) + ((1 - beta) * gradient_of_weight)\n",
    "    gradient_of_weight = momentum.copy()\n",
    "    return momentum, gradient_of_weight\n",
    "\n",
    "def rmsprop(sum_of_square, gradient_of_weight, beta=0.9999, epsilon=1e-8):\n",
    "    \"\"\"\n",
    "    Computes the rmsprop optimization.\n",
    "    @param sum_of_square [2D numpy array]: Current sum of squares of gradient\n",
    "    @param gradient_of_weight [2D numpy array]: Computed gradients of the weight of a layer\n",
    "    @param beta [float]: Decay rate of average gradient\n",
    "    @param epsilon [float]: Small positive constant to avoid division by zero\n",
    "    Returns updated sum_of_square and gradient_of_weight\n",
    "    \"\"\"\n",
    "    sum_of_square = (beta * sum_of_square) + ((1 - beta) * np.square(gradient_of_weight))\n",
    "    gradient_of_weight *= (1.0 /(np.sqrt(sum_of_square) + epsilon))\n",
    "    return sum_of_square, gradient_of_weight\n",
    "\n",
    "def adam(momentum, sum_of_square, gradient_of_weight, beta_1=0.9, beta_2=0.999, epsilon=1e-8):\n",
    "    \"\"\"\n",
    "    Computes the adam optimization.\n",
    "    @param momentum [2D numpy array]: Current momentum\n",
    "    @param sum_of_square [2D numpy array]: Current sum of squares of gradient\n",
    "    @param gradient_of_weight [2D numpy array]: Computed gradients of the weight of a layer\n",
    "    @param beta_1 [float]: Decay rate of average gradient for adagrad calculation\n",
    "    @param beta_2 [float]: Decay rate of average gradient for rmsprop calculation\n",
    "    @param epsilon [float]: Small positive constant to avoid division by zero\n",
    "    Returns updated momentum, sum_of_square, and gradient_of_weight\n",
    "    \"\"\"\n",
    "    momentum = (beta_1 * momentum) + ((1 - beta_1) * gradient_of_weight)\n",
    "    sum_of_square = (beta_2 * sum_of_square) + ((1 - beta_2) * np.square(gradient_of_weight))\n",
    "    gradient_of_weight = momentum/(np.sqrt(sum_of_square) + epsilon)\n",
    "    return momentum, sum_of_square, gradient_of_weight"
   ]
  },
  {
   "cell_type": "markdown",
   "id": "f306dd32",
   "metadata": {},
   "source": [
    "## Loss and Accuracy\n",
    "\n",
    "When training the network, we need to periodically test the accuracy and loss of the network. Categorical Crossentropy is an algorithm that is used to calculate the loss of the network by comparing the true output label with the output predictions provided by the network."
   ]
  },
  {
   "cell_type": "code",
   "execution_count": 22,
   "id": "5a91eaec",
   "metadata": {},
   "outputs": [],
   "source": [
    "def categorical_crossentropy(y_true, y_pred):\n",
    "    \"\"\"\n",
    "    Computes categorical crossentropy between the predicted and true labels.\n",
    "    @param y_true [2D Numpy array]: True labels, shape (num_examples, num_classes)\n",
    "    @pram y_pred [2D Numpy array]: Predicted labels, shape (num_examples, num_classes)\n",
    "\n",
    "    Returns [float]: the categorical crossentropy loss between y_true and y_pred\n",
    "    \"\"\"\n",
    "    # Avoid numerical instability by clipping values to a minimum epsilon\n",
    "    epsilon = 1e-10\n",
    "    y_pred = np.clip(y_pred, epsilon, 1.0 - epsilon)\n",
    "\n",
    "    # Compute cross-entropy loss\n",
    "    ce_loss = -np.sum(y_true * np.log(y_pred)) / y_true.shape[0]\n",
    "\n",
    "    return ce_loss\n",
    "\n",
    "def accuracy(y_true, y_pred):\n",
    "    \"\"\"\n",
    "    Computes accuracy of the network based on the predicted output and the expected/true output.\n",
    "    @param y_true [2D Numpy array]: True labels, shape (num_examples, num_classes)\n",
    "    @pram y_pred [2D Numpy array]: Predicted labels, shape (num_examples, num_classes)\n",
    "\n",
    "    Returns [float]: the accuracy of the network\n",
    "    \"\"\"\n",
    "    return np.mean(np.argmax(y_pred, axis=1) == np.argmax(y_true, axis=1))"
   ]
  },
  {
   "cell_type": "markdown",
   "id": "5db69eb0",
   "metadata": {},
   "source": [
    "## Forward propagation\n",
    "\n",
    "\\begin{equation}\n",
    "Output, a = Activation(W.x + b)\n",
    "\\end{equation}\n",
    "\n",
    "Here,\n",
    "\n",
    "- 'W' is the weight matrix of the current layer\n",
    "\n",
    "- 'x' is the input matrix provided to the current layer\n",
    "\n",
    "- 'b' is the bias for the current layer\n",
    "\n",
    "If the previous layer 'A' contains 2 neurons and the current layer 'B' contains 3 neurons, then the weight matrix\n",
    "\n",
    "\\begin{equation}\n",
    "W = \\left\\lbrack \\matrix{W_{A_1B_1} W_{A_1B_2} W_{A_1B_3} \\cr W_{A_2B_1} W_{A_2B_2} W_{A_2B_3}} \\right\\rbrack\n",
    "\\end{equation}\n",
    "\n",
    "The input (assuming it contains 1 sample input\n",
    "\n",
    "\\begin{equation}\n",
    "x = \\left\\lbrack \\matrix{x_{A_1} x_{A_2}} \\right\\rbrack\n",
    "\\end{equation}\n",
    "\n",
    "and the bias of the current layer\n",
    "\n",
    "\\begin{equation}\n",
    "b = \\left\\lbrack \\matrix{b_{B_1} b_{B_2} b_{B_3}} \\right\\rbrack\n",
    "\\end{equation}\n",
    "\n",
    "Therefore the non-activated output\n",
    "\n",
    "\\begin{equation}\n",
    "z = \\left\\lbrack \\matrix{z_{B_1} z_{B_2} z_{B_3}} \\right\\rbrack\n",
    "\\end{equation}"
   ]
  },
  {
   "cell_type": "code",
   "execution_count": 24,
   "id": "4311754a",
   "metadata": {},
   "outputs": [],
   "source": [
    "def feed_forward(x, W, b, activation):\n",
    "    \"\"\"\n",
    "    Returns the activated output for a layer.\n",
    "    @param x [2D numpy array] : The input to the current layer. First dimension is the number of samples \n",
    "    and the second dimension is the number of features of each sample.\n",
    "    \n",
    "    @param W [2D numpy array] : The weight of the current layer. First dimension is the number of \n",
    "    neurons in previous layer/input and the second dimension is the number of neurons in current layer.\n",
    "    \n",
    "    @param b [2D numpy array] : Bias of the current layer. The \n",
    "    first dimension is always 1 and the second dimension is the number of neurons in current layer\n",
    "    \n",
    "    @param activation [function]: The activation function for the current layer.\n",
    "    \"\"\"\n",
    "    return activation(np.dot(x, W) + b)"
   ]
  },
  {
   "cell_type": "code",
   "execution_count": null,
   "id": "8e0935c0",
   "metadata": {},
   "outputs": [],
   "source": []
  }
 ],
 "metadata": {
  "kernelspec": {
   "display_name": "Python 3.9 (XPython)",
   "language": "python",
   "name": "xpython"
  },
  "language_info": {
   "file_extension": ".py",
   "mimetype": "text/x-python",
   "name": "python",
   "version": "3.9.13"
  }
 },
 "nbformat": 4,
 "nbformat_minor": 5
}
