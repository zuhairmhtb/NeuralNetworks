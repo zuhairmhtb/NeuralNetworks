{
 "cells": [
  {
   "cell_type": "code",
   "execution_count": 1,
   "id": "f9550a34",
   "metadata": {},
   "outputs": [],
   "source": [
    "import numpy as np\n",
    "import matplotlib.pyplot as plt\n",
    "import tensorflow.keras.datasets.mnist as mnist"
   ]
  },
  {
   "cell_type": "markdown",
   "id": "20a0c651",
   "metadata": {},
   "source": [
    "# Neural Network from Scratch\n",
    "\n",
    "This notebook contains a detailed discussion and implementation of deep neural networks. Only numpy is used for matrix calculation. Rest of the code is developed from scratch. Each implementation contains an accompanying theoretical discussion along with it. It assumes that the reader has a basic understanding of vector calculation and how neural networks work."
   ]
  },
  {
   "cell_type": "code",
   "execution_count": null,
   "id": "c5acc0a4",
   "metadata": {},
   "outputs": [],
   "source": []
  },
  {
   "cell_type": "markdown",
   "id": "b0d4bd22",
   "metadata": {},
   "source": [
    "## Dataset\n",
    "\n",
    "MNIST handwritten digit dataset has been used for classification. The dataset contains 70,000 images of different digits (0-9). Each image is a 28x28 pixel grayscale image. The value of each pixel can be between 0 and 255 (inclusive). \n",
    "\n",
    "For the neural network, we convert the two dimensional image to a one dimensional vector consisting of 784 pixel values. Each pixel value is considered as a feature. We scale the value so that the value of each pixel ranges between 0 and 1 (inclusive).\n",
    "\n",
    "__Dataset Architecture:__\n",
    "\n",
    "Input shape [?, 784] : The input to the neural network contains a two dimensional matrix. The first dimension (?) contains the batch size (number of images provided to the network) and the second dimension (784) contains the number of features available for each sample.\n",
    "\n",
    "Output Label [?, 10]: The output of the network contains two dimensional matrix. The first dimension (?) contains the batch size (number of images provided to the network) and the second dimension (10) contains the number of output classes available for the network."
   ]
  },
  {
   "cell_type": "code",
   "execution_count": 2,
   "id": "4bf9e7f4",
   "metadata": {},
   "outputs": [
    {
     "name": "stdout",
     "output_type": "stream",
     "text": [
      "Train dataset shape: (60000, 784), train label shape: (60000,)\n",
      "Test dataset shape: (10000, 784), test label shape: (10000,)\n",
      "Pixel value range: 0.0 - 1.0\n"
     ]
    },
    {
     "data": {
      "image/png": "[encoded data removed]",
      "text/plain": [
       "<Figure size 640x480 with 1 Axes>"
      ]
     },
     "metadata": {},
     "output_type": "display_data"
    }
   ],
   "source": [
    "(X_train, y_train), (X_test, y_test) = mnist.load_data()\n",
    "\n",
    "X_train, X_test = X_train.reshape(X_train.shape[0], -1)/255.0, X_test.reshape(X_test.shape[0], -1)/255.0 # Scaling the dataset\n",
    "print(f\"Train dataset shape: {X_train.shape}, train label shape: {y_train.shape}\")\n",
    "print(f\"Test dataset shape: {X_test.shape}, test label shape: {y_test.shape}\")\n",
    "\n",
    "print(f\"Pixel value range: {np.min([np.min(X_train), np.min(X_test)])} - {np.max([np.max(X_train), np.max(X_test)])}\")\n",
    "\n",
    "plt.figure()\n",
    "i = np.random.randint(0, len(X_train))\n",
    "plt.title(\"Label: \" + str(y_train[i]))\n",
    "plt.imshow(X_train[i].reshape(28, 28), cmap='gray')\n",
    "plt.show()"
   ]
  },
  {
   "cell_type": "markdown",
   "id": "62de334f",
   "metadata": {},
   "source": [
    "## One hot encoding\n",
    "\n",
    "In the dataset, the output label of each image is a value between 0-9. However, when performing classification the output of the network needs to be a probability distribution of each output class. This means that if we have an image of the digit '2' and the output class is the number '2', we need to convert that output to a vector as follows: [0, 0, 1, 0, 0, 0, 0, 0, 0, 0]\n",
    "\n",
    "This process of converting a number to a vector is known as one-hot encoding. The network itself will provide the output as a one-hot encoded vector of probability distribution. We need to convert the train and test labels to the same form in order to compute the error between the predicted and true output."
   ]
  },
  {
   "cell_type": "code",
   "execution_count": 3,
   "id": "c018ab16",
   "metadata": {},
   "outputs": [],
   "source": [
    "def one_hot_encoded(y, total_classes):\n",
    "    \"\"\"\n",
    "    Calculates the one-hot encoded vector from the output label\n",
    "    @param y [1D numpy array]: A vector containing output labels\n",
    "    @param total_classes [int]: Number of total classes available in the output layer\n",
    "    \n",
    "    Returns [2D numpy array]: one-hot encoded vector for the output labels\n",
    "    \"\"\"\n",
    "    if len(y.shape) >= 2:\n",
    "        return y\n",
    "    encoded = np.zeros((y.shape[0], total_classes))\n",
    "    encoded[np.arange(y.shape[0]), y] = 1\n",
    "    return encoded"
   ]
  },
  {
   "cell_type": "code",
   "execution_count": 4,
   "id": "f32001bc",
   "metadata": {},
   "outputs": [
    {
     "name": "stdout",
     "output_type": "stream",
     "text": [
      "Label 0 : One hot encoded vector => [1. 0. 0. 0. 0. 0. 0. 0. 0. 0.]\n",
      "Label 1 : One hot encoded vector => [0. 1. 0. 0. 0. 0. 0. 0. 0. 0.]\n",
      "Label 2 : One hot encoded vector => [0. 0. 1. 0. 0. 0. 0. 0. 0. 0.]\n",
      "Label 3 : One hot encoded vector => [0. 0. 0. 1. 0. 0. 0. 0. 0. 0.]\n"
     ]
    }
   ],
   "source": [
    "sample_classes = np.array([0, 1, 2, 3])\n",
    "one_hot_encoded_classes = one_hot_encoded(sample_classes, 10)\n",
    "for i in range(len(sample_classes)):\n",
    "    print(f\"Label {sample_classes[i]} : One hot encoded vector => {one_hot_encoded_classes[i]}\")"
   ]
  },
  {
   "cell_type": "code",
   "execution_count": null,
   "id": "85bddb7c",
   "metadata": {},
   "outputs": [],
   "source": []
  },
  {
   "cell_type": "markdown",
   "id": "115e319b",
   "metadata": {},
   "source": [
    "## Activation Functions\n",
    "\n",
    "Activation functions are used to introduce non-linearity to the output of a specific layer. The following activation functions are used for the network:\n",
    "\n",
    "1. __Rectified Linear Unit (ReLU):__ This activation function is applied to the output of hidden layers. It reduces the likelihood of vanishing gradient. Furthermore, it introduces sparsity and it is easier to calculate the derivative of this function.\n",
    "\n",
    "\n",
    "2. __Softmax:__ This activation function is applied to the final output produced by the output layer. It is used to calculate the probablity distributio of each output class/label. This helps in classification."
   ]
  },
  {
   "cell_type": "code",
   "execution_count": null,
   "id": "d3220d46",
   "metadata": {},
   "outputs": [],
   "source": []
  },
  {
   "cell_type": "markdown",
   "id": "af9937a9",
   "metadata": {},
   "source": [
    "### ReLU\n",
    "\n",
    "\\begin{equation}\n",
    "Y = f(x) = \\begin{cases}\n",
    "0 \\text{ if } x < 0\\\\\n",
    "x \\text{ otherwise}\n",
    "\\end{cases}\n",
    "\\end{equation}\n",
    "\n",
    "ReLU replaces all negative numbers to zero. The derivative of ReLU is calculated as follows:\n",
    "\n",
    "\\begin{equation}\n",
    "Y' = f'(x) = \\begin{cases}\n",
    "0 \\text{ if } x = 0\\\\\n",
    "1 \\text{ otherwise}\n",
    "\\end{cases}\n",
    "\\end{equation}\n",
    "\n",
    "The slope of positive numbers are 1 as positive input to the function is same as the output of the function.\n",
    "\n"
   ]
  },
  {
   "cell_type": "code",
   "execution_count": 5,
   "id": "25d9938c",
   "metadata": {},
   "outputs": [],
   "source": [
    "def relu(x):\n",
    "    \"\"\"\n",
    "    Computes the ReLU activated output\n",
    "    @aram x [numpy array or int]: The non-activated output\n",
    "    Returns [numpy array or int]: The activated output\n",
    "    \"\"\"\n",
    "    return np.maximum(0.0, x)\n",
    "\n",
    "def derivative_relu(x):\n",
    "    \"\"\"\n",
    "    Computes the derivative of the ReLU activated output\n",
    "    @aram x [numpy array or int]: The activated output\n",
    "    Returns [numpy array or int]: The derivative of the activated output\n",
    "    \"\"\"\n",
    "    return np.where(x > 0, 1.0, 0.0)"
   ]
  },
  {
   "cell_type": "code",
   "execution_count": 6,
   "id": "282a8117",
   "metadata": {},
   "outputs": [
    {
     "data": {
      "image/png": "[encoded data removed]",
      "text/plain": [
       "<Figure size 640x480 with 1 Axes>"
      ]
     },
     "metadata": {},
     "output_type": "display_data"
    }
   ],
   "source": [
    "plt.figure()\n",
    "plt.title('ReLU')\n",
    "plt.plot(np.arange(-100, 100, 1), [relu(i) for i in np.arange(-100, 100, 1)])\n",
    "plt.grid()\n",
    "plt.show()"
   ]
  },
  {
   "cell_type": "markdown",
   "id": "e59f0e0d",
   "metadata": {},
   "source": [
    "### Softmax\n",
    "\n",
    "\\begin{equation}\n",
    "Y = f(x) = \\frac{e^{x - max(x)}}{\\sum_{i=0}^n e^{x - max(x)}}\n",
    "\\end{equation}\n",
    "\n",
    "Here, 'n' is the total number of output classes (as this function is applied to the output layer only) which is 10.\n",
    "\n",
    "Softmax takes each output (probability of class label) and exponentially increases it and finally scales it down to range between 0 and 1. It provides an advantage that the class output which has a higher probability is increased a lot (due to exponential increase) and after scaling becomes close to one. On the other hand, all other class labels become close to zero."
   ]
  },
  {
   "cell_type": "code",
   "execution_count": 7,
   "id": "abd2fa70",
   "metadata": {},
   "outputs": [],
   "source": [
    "def softmax(x):\n",
    "    \"\"\"\n",
    "    Computes the softmax activated output\n",
    "    @aram x [2D numpy array]: The non-activated output provided by output layer\n",
    "    Returns [2D numpy array]: The activated output provided by output layer\n",
    "    \"\"\"\n",
    "    exp_x =  np.exp(x - np.max(x, axis=1, keepdims=True))\n",
    "    return exp_x/np.sum(exp_x, axis=1, keepdims=True)"
   ]
  },
  {
   "cell_type": "code",
   "execution_count": 8,
   "id": "7c5ea447",
   "metadata": {},
   "outputs": [
    {
     "data": {
      "image/png": "[encoded data removed]",
      "text/plain": [
       "<Figure size 640x480 with 1 Axes>"
      ]
     },
     "metadata": {},
     "output_type": "display_data"
    }
   ],
   "source": [
    "x = np.array([[10, 11, 12, 13]])\n",
    "y = softmax(x)\n",
    "plt.figure()\n",
    "plt.title(f'Softmax - Total probability: {np.sum(y[0])}')\n",
    "plt.bar(x[0], y[0], width=0.4)\n",
    "plt.grid()\n",
    "plt.show()"
   ]
  },
  {
   "cell_type": "markdown",
   "id": "1a542cb6",
   "metadata": {},
   "source": [
    "## Optimizers\n",
    "\n",
    "When performing backpropagation algorithm, we normally use gradient descent to calculate the gradient of weights and biases of each layer. Optimization algorihms are a variant of gradient descent that is used to improve the performance of the backpropagation. We will use the following optimization algorithm:\n",
    "\n",
    "1. Adagrad\n",
    "\n",
    "2. RMSProp\n",
    "\n",
    "3. Adam\n",
    "\n",
    "Source: [https://www.geeksforgeeks.org/intuition-of-adam-optimizer/](https://www.geeksforgeeks.org/intuition-of-adam-optimizer/)"
   ]
  },
  {
   "cell_type": "code",
   "execution_count": 9,
   "id": "3956bf33",
   "metadata": {},
   "outputs": [],
   "source": [
    "def adagrad(momentum, gradient_of_weight, beta=0.9):\n",
    "    \"\"\"\n",
    "    Computes the adagrad optimization.\n",
    "    @param momentum [2D numpy array]: Current momentum\n",
    "    @param gradient_of_weight [2D numpy array]: Computed gradients of the weight of a layer\n",
    "    @param beta [float]: Decay rate of average gradient\n",
    "    Returns updated momentum and gradient_of_weight\n",
    "    \"\"\"\n",
    "    momentum = (beta * momentum) + ((1 - beta) * gradient_of_weight)\n",
    "    gradient_of_weight = momentum.copy()\n",
    "    return momentum, gradient_of_weight\n",
    "\n",
    "def rmsprop(sum_of_square, gradient_of_weight, beta=0.9999, epsilon=1e-8):\n",
    "    \"\"\"\n",
    "    Computes the rmsprop optimization.\n",
    "    @param sum_of_square [2D numpy array]: Current sum of squares of gradient\n",
    "    @param gradient_of_weight [2D numpy array]: Computed gradients of the weight of a layer\n",
    "    @param beta [float]: Decay rate of average gradient\n",
    "    @param epsilon [float]: Small positive constant to avoid division by zero\n",
    "    Returns updated sum_of_square and gradient_of_weight\n",
    "    \"\"\"\n",
    "    sum_of_square = (beta * sum_of_square) + ((1 - beta) * np.square(gradient_of_weight))\n",
    "    gradient_of_weight *= (1.0 /(np.sqrt(sum_of_square) + epsilon))\n",
    "    return sum_of_square, gradient_of_weight\n",
    "\n",
    "def adam(momentum, sum_of_square, gradient_of_weight, beta_1=0.9, beta_2=0.999, epsilon=1e-8):\n",
    "    \"\"\"\n",
    "    Computes the adam optimization.\n",
    "    @param momentum [2D numpy array]: Current momentum\n",
    "    @param sum_of_square [2D numpy array]: Current sum of squares of gradient\n",
    "    @param gradient_of_weight [2D numpy array]: Computed gradients of the weight of a layer\n",
    "    @param beta_1 [float]: Decay rate of average gradient for adagrad calculation\n",
    "    @param beta_2 [float]: Decay rate of average gradient for rmsprop calculation\n",
    "    @param epsilon [float]: Small positive constant to avoid division by zero\n",
    "    Returns updated momentum, sum_of_square, and gradient_of_weight\n",
    "    \"\"\"\n",
    "    momentum = (beta_1 * momentum) + ((1 - beta_1) * gradient_of_weight)\n",
    "    sum_of_square = (beta_2 * sum_of_square) + ((1 - beta_2) * np.square(gradient_of_weight))\n",
    "    gradient_of_weight = momentum/(np.sqrt(sum_of_square) + epsilon)\n",
    "    return momentum, sum_of_square, gradient_of_weight"
   ]
  },
  {
   "cell_type": "markdown",
   "id": "f306dd32",
   "metadata": {},
   "source": [
    "## Loss and Accuracy\n",
    "\n",
    "When training the network, we need to periodically test the accuracy and loss of the network. Categorical Crossentropy is an algorithm that is used to calculate the loss of the network by comparing the true output label with the output predictions provided by the network."
   ]
  },
  {
   "cell_type": "code",
   "execution_count": 10,
   "id": "5a91eaec",
   "metadata": {},
   "outputs": [],
   "source": [
    "def categorical_crossentropy(y_true, y_pred):\n",
    "    \"\"\"\n",
    "    Computes categorical crossentropy between the predicted and true labels.\n",
    "    @param y_true [2D Numpy array]: True labels, shape (num_examples, num_classes)\n",
    "    @pram y_pred [2D Numpy array]: Predicted labels, shape (num_examples, num_classes)\n",
    "\n",
    "    Returns [float]: the categorical crossentropy loss between y_true and y_pred\n",
    "    \"\"\"\n",
    "    # Avoid numerical instability by clipping values to a minimum epsilon\n",
    "    epsilon = 1e-10\n",
    "    y_pred = np.clip(y_pred, epsilon, 1.0 - epsilon)\n",
    "\n",
    "    # Compute cross-entropy loss\n",
    "    ce_loss = -np.sum(y_true * np.log(y_pred)) / y_true.shape[0]\n",
    "\n",
    "    return ce_loss\n",
    "\n",
    "def accuracy(y_true, y_pred):\n",
    "    \"\"\"\n",
    "    Computes accuracy of the network based on the predicted output and the expected/true output.\n",
    "    @param y_true [2D Numpy array]: True labels, shape (num_examples, num_classes)\n",
    "    @pram y_pred [2D Numpy array]: Predicted labels, shape (num_examples, num_classes)\n",
    "\n",
    "    Returns [float]: the accuracy of the network\n",
    "    \"\"\"\n",
    "    return np.mean(np.argmax(y_pred, axis=1) == np.argmax(y_true, axis=1))"
   ]
  },
  {
   "cell_type": "markdown",
   "id": "5db69eb0",
   "metadata": {},
   "source": [
    "## Forward propagation\n",
    "\n",
    "\\begin{equation}\n",
    "Output, Y = Activation(W.x + b)\n",
    "\\end{equation}\n",
    "\n",
    "Here,\n",
    "\n",
    "- 'W' is the weight matrix of the current layer\n",
    "\n",
    "- 'x' is the input matrix provided to the current layer\n",
    "\n",
    "- 'b' is the bias for the current layer\n",
    "\n",
    "If the previous layer 'A' contains 2 neurons and the current layer 'B' contains 3 neurons, then the weight matrix\n",
    "\n",
    "\\begin{equation}\n",
    "W = \\left\\lbrack \\matrix{W_{A_1B_1} W_{A_1B_2} W_{A_1B_3} \\cr W_{A_2B_1} W_{A_2B_2} W_{A_2B_3}} \\right\\rbrack\n",
    "\\end{equation}\n",
    "\n",
    "The input (assuming it contains 1 sample input\n",
    "\n",
    "\\begin{equation}\n",
    "x = \\left\\lbrack \\matrix{x_{A_1} x_{A_2}} \\right\\rbrack\n",
    "\\end{equation}\n",
    "\n",
    "and the bias of the current layer\n",
    "\n",
    "\\begin{equation}\n",
    "b = \\left\\lbrack \\matrix{b_{B_1} b_{B_2} b_{B_3}} \\right\\rbrack\n",
    "\\end{equation}\n",
    "\n",
    "Therefore the non-activated output\n",
    "\n",
    "\\begin{equation}\n",
    "z = \\left\\lbrack \\matrix{z_{B_1} z_{B_2} z_{B_3}} \\right\\rbrack\n",
    "\\end{equation}"
   ]
  },
  {
   "cell_type": "code",
   "execution_count": 11,
   "id": "4311754a",
   "metadata": {},
   "outputs": [],
   "source": [
    "def feed_forward(x, W, b, activation):\n",
    "    \"\"\"\n",
    "    Returns the activated output for a layer.\n",
    "    @param x [2D numpy array] : The input to the current layer. First dimension is the number of samples \n",
    "    and the second dimension is the number of features of each sample.\n",
    "    \n",
    "    @param W [2D numpy array] : The weight of the current layer. First dimension is the number of \n",
    "    neurons in previous layer/input and the second dimension is the number of neurons in current layer.\n",
    "    \n",
    "    @param b [2D numpy array] : Bias of the current layer. The \n",
    "    first dimension is always 1 and the second dimension is the number of neurons in current layer\n",
    "    \n",
    "    @param activation [function]: The activation function for the current layer.\n",
    "    \"\"\"\n",
    "    return activation(np.dot(x, W) + b)"
   ]
  },
  {
   "cell_type": "markdown",
   "id": "973b02ac",
   "metadata": {},
   "source": [
    "## Error of output layer\n",
    "\n",
    "The error of output layer is calculated by subtracting the value (probability) of each class of each sample from the value of each class of the training label (one hot encoded).\n",
    "\n",
    "\\begin{equation}\n",
    "Error, E = Y^{predicted} - Y^{true}\n",
    "\\end{equation}\n",
    "\n",
    "If the final output contains 1 sample and 3 classes, where\n",
    "\n",
    "\\begin{equation}\n",
    "Y^{predicted} = \\left\\lbrack \\matrix{Y^P_1 Y^P_2 Y^P_3} \\right\\rbrack\n",
    "\\end{equation}\n",
    "\n",
    "and\n",
    "\n",
    "\\begin{equation}\n",
    "Y^{true} = \\left\\lbrack \\matrix{Y^T_1 Y^T_2 Y^T_3} \\right\\rbrack\n",
    "\\end{equation}\n",
    "\n",
    "then\n",
    "\n",
    "\\begin{equation}\n",
    "\\left\\lbrack \\matrix{E_1 E_2 E_3} \\right\\rbrack = \\left\\lbrack \\matrix{Y^P_1 Y^P_2 Y^P_3} \\right\\rbrack - \\left\\lbrack \\matrix{Y^T_1 Y^T_2 Y^T_3} \\right\\rbrack\n",
    "\\end{equation}"
   ]
  },
  {
   "cell_type": "code",
   "execution_count": 12,
   "id": "c8c76c71",
   "metadata": {},
   "outputs": [],
   "source": [
    "def calculate_output_error(y_true, y_pred):\n",
    "    \"\"\"\n",
    "    Computes error of the output layer.\n",
    "    @param y_true [2D Numpy array]: True labels, shape (num_examples, num_classes)\n",
    "    @pram y_pred [2D Numpy array]: Predicted labels, shape (num_examples, num_classes)\n",
    "\n",
    "    Returns [2D Numpy array]: the error vector\n",
    "    \"\"\"\n",
    "    return y_pred - y_true"
   ]
  },
  {
   "cell_type": "markdown",
   "id": "a09d31fd",
   "metadata": {},
   "source": [
    "## Error of hidden layers\n",
    "\n",
    "The error of each hidden layer's output is calculated by computing the dot product between the error of the next layer and weight matrix of the next layer. The result is then multiplied (element-wise) by the non-activated input to the next layer. \n",
    "\n",
    "The dot product provides a weighted error of the next layer. The input to the next layer is actually output of the current layer. So, multiplying the weighted error by the current layer's output provides the amount contribution that made to the final error by current layer's output.\n",
    "\n",
    "Let the current layer be 'A' and the next layer be 'B'. \n",
    "\n",
    "Let, the error produced by the next layer be '$E_B$' where\n",
    "\n",
    "\\begin{equation}\n",
    "E_B =  \\left\\lbrack \\matrix{E_{B_1} E_{B_2} E_{B_3}} \\right\\rbrack\n",
    "\\end{equation}\n",
    "\n",
    "and the weight matrix of the current layer be \n",
    "\n",
    "\\begin{equation}\n",
    "W_B = \\left\\lbrack \\matrix{W_{A_1B_1} W_{A_1B_2} W_{A_1B_3} \\cr W_{A_2B_1} W_{A_2B_2} W_{A_2B_3}} \\right\\rbrack\n",
    "\\end{equation}\n",
    "\n",
    "and non-activated output of the current layer be\n",
    "\n",
    "\\begin{equation}\n",
    "Y'_A =  \\left\\lbrack \\matrix{Y'_{A_1} Y'_{A_2}} \\right\\rbrack\n",
    "\\end{equation}\n",
    "\n",
    "Therefore, error of the current layer\n",
    "\n",
    "\\begin{equation}\n",
    "E_A =  (E_B . W^T_B) * Y'_A \\\\\n",
    "E_A = (\\left\\lbrack \\matrix{E_{B_1} E_{B_2} E_{B_3}} \\right\\rbrack . \\left\\lbrack \\matrix{W_{A_1B_1} W_{A_2B_1} \\cr W_{A_1B_2} W_{A_2B_2} \\cr W_{A_1B_3} W_{A_2B_3}} \\right\\rbrack) * \\left\\lbrack \\matrix{Y'_{A_1} Y'_{A_2}} \\right\\rbrack \\\\\n",
    "E_A = \\left\\lbrack \\matrix{E_{A_1} E_{A_2}} \\right\\rbrack\n",
    "\\end{equation}"
   ]
  },
  {
   "cell_type": "code",
   "execution_count": 13,
   "id": "da4beadc",
   "metadata": {},
   "outputs": [],
   "source": [
    "def calculate_hidden_error(error_next_layer, weight_next_layer, non_activated_output_current_layer):\n",
    "    \"\"\"\n",
    "    Calculates output of the hidden layer\n",
    "    @param error_next_layer [2D Numpy array]: Error generated by the next layer. First dimension is the number of samples\n",
    "    @param weight_next_layer [2D Numpy array]: Weight matrix of the next layer\n",
    "    @param non_activated_output_current_layer [2D Numpy array]: Non-activated output of the current layer\n",
    "    \n",
    "    Returns [2D Numpy array]: Error of the current layer\n",
    "    \"\"\"\n",
    "    return  np.dot(error_next_layer, weight_next_layer.T) * non_activated_output_current_layer"
   ]
  },
  {
   "cell_type": "markdown",
   "id": "61791c9c",
   "metadata": {},
   "source": [
    "## Gradient of weights of current layer\n",
    "\n",
    "Gradient is the amount which needs to be subtracted from existing weight/biases in order to account for the error in one iteration. This update changes the weight to minimize the error for the outputs produced.\n",
    "\n",
    "To calculate the gradient of weights of the current layer, we compute the dot product between the input (transposed) provided to the current layer and error of the current layer. We, then scale the result by dividing it with the total number of sample data provided in the input.\n",
    "\n",
    "Let 'G' be gradient of the current layer 'B', 'Y_A' be input to the current layer and output of the previous layer 'A', and 'E_B' be the error of the current layer's output. Let the total number of sample data in input be 'n'. Let the learning rate be '$\\alpha$'. Therefore,\n",
    "\n",
    "\\begin{equation}\n",
    "Y_A = \\left\\lbrack \\matrix{Y_{A_1} Y_{A_2}} \\right\\rbrack\n",
    "\\end{equation}\n",
    "\n",
    "and \n",
    "\n",
    "\\begin{equation}\n",
    "E_B = \\left\\lbrack \\matrix{E_{B_1} E_{B_2} E_{B_3}} \\right\\rbrack\n",
    "\\end{equation}\n",
    "\n",
    "Therefore,\n",
    "\n",
    "\\begin{equation}\n",
    "G_B = (Y^T_A . E_B) * \\frac{1}{n} \\\\\n",
    "G_B = (\\left\\lbrack \\matrix{Y_{A_1} \\cr Y_{A_2}} \\right\\rbrack . \\left\\lbrack \\matrix{E_{B_1} E_{B_2} E_{B_3}} \\right\\rbrack)  * \\frac{1}{n} \\\\\n",
    "G_B = \\left\\lbrack \\matrix{G^B_{A_1B_1} G^B_{A_1B_2} G^B_{A_1B_3} \\cr G^B_{A_2B_1} G^B_{A_2B_2} G^B_{A_2B_3}} \\right\\rbrack\n",
    "\\end{equation}\n",
    "\n",
    "Since, weight of the layer 'B' is \n",
    "\n",
    "\\begin{equation}\n",
    "W_B = \\left\\lbrack \\matrix{W_{A_1B_1} W_{A_1B_2} W_{A_1B_3} \\cr W_{A_2B_1} W_{A_2B_2} W_{A_2B_3}} \\right\\rbrack\n",
    "\\end{equation}\n",
    "\n",
    "we update the weight by subtracting the gradient from current weight\n",
    "\n",
    "\\begin{equation}\n",
    "W^{updated}_B = W_B - \\alpha * G_B \\\\\n",
    "W^{updated}_B = \\left\\lbrack \\matrix{W_{A_1B_1} W_{A_1B_2} W_{A_1B_3} \\cr W_{A_2B_1} W_{A_2B_2} W_{A_2B_3}} \\right\\rbrack - \\alpha * \\left\\lbrack \\matrix{G^B_{A_1B_1} G^B_{A_1B_2} G^B_{A_1B_3} \\cr G^B_{A_2B_1} G^B_{A_2B_2} G^B_{A_2B_3}} \\right\\rbrack\n",
    "\\end{equation}\n",
    "\n",
    "__Note: When using an optimizer, we first compute the gradient and then optimize the gradient using optimization algorithm. We then subtract the optimized gradient from the current weights in order to get the updated weights__"
   ]
  },
  {
   "cell_type": "code",
   "execution_count": 14,
   "id": "106b5da5",
   "metadata": {},
   "outputs": [],
   "source": [
    "def calculate_weight_gradient(error_current_layer, input_current_layer):\n",
    "    \"\"\"\n",
    "    Computes gradeint of the weights of the current layer.\n",
    "    @param error_current_layer [2D Numpy array]: Error generated by the current layer's output. First dimension is the number \n",
    "    of samples\n",
    "    @param input_current_layer [2D Numpy array]: Input vector provided to the current layer. First dimension is the number \n",
    "    of samples\n",
    "    \n",
    "    Returns [2D Numpy array]: Gradient of the weights of the current layer\n",
    "    \"\"\"\n",
    "    return (1.0/input_current_layer.shape[0]) * np.dot(input_current_layer.T, error_current_layer)"
   ]
  },
  {
   "cell_type": "markdown",
   "id": "f592e9c4",
   "metadata": {},
   "source": [
    "## Gradient of bias of current layer\n",
    "\n",
    "Gradient is the amount which needs to be subtracted from existing weight/biases in order to account for the error in one iteration. This update changes the bias to minimize the error for the outputs produced.\n",
    "\n",
    "To calculate the gradient of bias of the current layer, we calculate the sum of error of all data samples of each neuron in the current layer and divide it by the total number of data samples provided to the current layer.\n",
    "\n",
    "Let 'G' be gradient of the bias of current layer 'B' and 'E_B' be the error of the current layer's output. Let the total number of sample data in input be 'n' and the total number of neurons be 3. Let the learning rate be '$\\alpha$'. Therefore,\n",
    "\n",
    "\n",
    "\\begin{equation}\n",
    "E_B = \\left\\lbrack \\matrix{E_{B_1} E_{B_2} E_{B_3}} \\right\\rbrack\n",
    "\\end{equation}\n",
    "\n",
    "Therefore,\n",
    "\n",
    "\\begin{equation}\n",
    "G_B = \\frac{1}{n} * \\left\\lbrack \\matrix{ (\\sum^n_{i=0} E_{B_1}) (\\sum^n_{i=0} E_{B_2}) (\\sum^n_{i=0} E_{B_3}) } \\right\\rbrack \\\\\n",
    "G_B = \\left\\lbrack \\matrix{G_{B_1} G_{B_2} G_{B_3}} \\right\\rbrack\n",
    "\\end{equation}\n",
    "\n",
    "We update the bias by subtracting the gradient from current bias\n",
    "\n",
    "\\begin{equation}\n",
    "B^{updated}_B = B_B - \\alpha * G_B \\\\\n",
    "B^{updated}_B = \\left\\lbrack \\matrix{B_{B_1} B_{B_2} B_{B_3}} \\right\\rbrack - \\alpha * \\left\\lbrack \\matrix{G_{B_1} G_{B_2} G_{B_3}} \\right\\rbrack\n",
    "\\end{equation}"
   ]
  },
  {
   "cell_type": "code",
   "execution_count": 15,
   "id": "1e8f2661",
   "metadata": {},
   "outputs": [],
   "source": [
    "def calculate_bias_gradient(error_current_layer):\n",
    "    \"\"\"\n",
    "    Computes gradeint of the weights of the current layer.\n",
    "    @param error_current_layer [2D Numpy array]: Error generated by the current layer's output. First dimension is the number \n",
    "    of samples\n",
    "    \n",
    "    Returns [2D Numpy array]: Gradient of the bias of the current layer\n",
    "    \"\"\"\n",
    "    return (1.0/error_current_layer.shape[0]) * np.sum(error_current_layer, axis=0, keepdims=True)"
   ]
  },
  {
   "cell_type": "markdown",
   "id": "9a3ec98c",
   "metadata": {},
   "source": [
    "## Update weights and biases\n",
    "\n",
    "__1. Weights:__\n",
    "\n",
    "\\begin{equation}\n",
    "W^{updated}_B = W_B - \\alpha * G_B \\\\\n",
    "W^{updated}_B = \\left\\lbrack \\matrix{W_{A_1B_1} W_{A_1B_2} W_{A_1B_3} \\cr W_{A_2B_1} W_{A_2B_2} W_{A_2B_3}} \\right\\rbrack - \\alpha * \\left\\lbrack \\matrix{G^B_{A_1B_1} G^B_{A_1B_2} G^B_{A_1B_3} \\cr G^B_{A_2B_1} G^B_{A_2B_2} G^B_{A_2B_3}} \\right\\rbrack\n",
    "\\end{equation}\n",
    "\n",
    "__2. Biases:__\n",
    "\n",
    "\\begin{equation}\n",
    "B^{updated}_B = B_B - \\alpha * G_B \\\\\n",
    "B^{updated}_B = \\left\\lbrack \\matrix{B_{B_1} B_{B_2} B_{B_3}} \\right\\rbrack - \\alpha * \\left\\lbrack \\matrix{G_{B_1} G_{B_2} G_{B_3}} \\right\\rbrack\n",
    "\\end{equation}\n",
    "\n",
    "__Note: When using an optimizer, we first compute the gradient and then optimize the gradient using optimization algorithm. We then subtract the optimized gradient from the current weights in order to get the updated weights__"
   ]
  },
  {
   "cell_type": "code",
   "execution_count": 16,
   "id": "78a43f55",
   "metadata": {},
   "outputs": [],
   "source": [
    "def update_weights(weights, gradient, learning_rate):\n",
    "    \"\"\"\n",
    "    @param weights [2D Numpy array]: Weight matrix of the current layer\n",
    "    @param gradient [2D Numpy array]: Gradient of the weight of the current layer\n",
    "    @param learning_rate [float]: Learning rate\n",
    "    \n",
    "    Returns [2D Numpy array]: Updated weights\n",
    "    \"\"\"\n",
    "    return weights - (learning_rate * gradient)\n",
    "\n",
    "def update_biases(biases, gradient, learning_rate):\n",
    "    \"\"\"\n",
    "    @param biases [2D Numpy array]: Bias matrix of the current layer\n",
    "    @param gradient [2D Numpy array]: Gradient of the weight of the current layer\n",
    "    @param learning_rate [float]: Learning rate\n",
    "    \n",
    "    Returns [2D Numpy array]: Updated biases\n",
    "    \"\"\"\n",
    "    return biases - (learning_rate * gradient)"
   ]
  },
  {
   "cell_type": "code",
   "execution_count": null,
   "id": "e33bc6eb",
   "metadata": {},
   "outputs": [],
   "source": []
  },
  {
   "cell_type": "markdown",
   "id": "1a937749",
   "metadata": {},
   "source": [
    "## Creating the network\n",
    "\n",
    "__Architecture:__\n",
    "\n",
    "1. Number of features in input sample: 784\n",
    "\n",
    "2. Total hidden layers: 2\n",
    "\n",
    "3. Neurons in output layer: 10 (classes)\n",
    "\n",
    "4. Neurons in hidden layer 1: 128\n",
    "\n",
    "5. Neurons in hidden layer 2: 64\n",
    "\n",
    "6. Hidden Activation: ReLU\n",
    "\n",
    "7. Output Activation: Softmax"
   ]
  },
  {
   "cell_type": "code",
   "execution_count": 17,
   "id": "b9e5f4c6",
   "metadata": {},
   "outputs": [],
   "source": [
    "def create_network(input_features, output_classes):\n",
    "    \"\"\"\n",
    "    Initializes the weights and biases of the network and returns them\n",
    "    @param input_features [int]: Number of features in the input data\n",
    "    @param output_classes [int]: Number of output classes\n",
    "    \n",
    "    Returns weights and biases of hidden and output layers\n",
    "    \"\"\"\n",
    "    \n",
    "    # Hidden layer 1\n",
    "    hidden_layer_1_weights = np.random.randn(input_features, 128)\n",
    "    hidden_layer_1_biases = np.random.randn(1, 128)\n",
    "\n",
    "    # Hidden layer 2\n",
    "    hidden_layer_2_weights = np.random.randn(128, 64)\n",
    "    hidden_layer_2_biases = np.random.randn(1, 64)\n",
    "\n",
    "    # Output layer\n",
    "    output_layer_weights = np.random.randn(64, output_classes)\n",
    "    output_layer_biases = np.random.randn(1, output_classes)\n",
    "    \n",
    "    return hidden_layer_1_weights, hidden_layer_1_biases, hidden_layer_2_weights, \\\n",
    "            hidden_layer_2_biases, output_layer_weights, output_layer_biases\n",
    "\n"
   ]
  },
  {
   "cell_type": "markdown",
   "id": "22ae9650",
   "metadata": {},
   "source": [
    "## Training the network\n",
    "\n",
    "1. Epochs: 100\n",
    "\n",
    "2. Optimization algorithm: Adam => parameters: beta 1: 0.9, beta 2: 0.999, epsilon: 1e-8\n",
    "\n",
    "3. Learning rate: 0.001\n",
    "\n",
    "4. Batch size: 32"
   ]
  },
  {
   "cell_type": "code",
   "execution_count": 18,
   "id": "e3a983c6",
   "metadata": {},
   "outputs": [
    {
     "name": "stdout",
     "output_type": "stream",
     "text": [
      "Epoch: 0 of 20: Accuracy: 0.5901, loss: 1.8556095078750605\n",
      "Epoch: 1 of 20: Accuracy: 0.6664, loss: 1.2178620090928702\n",
      "Epoch: 2 of 20: Accuracy: 0.7467, loss: 0.9593248867898976\n",
      "Epoch: 3 of 20: Accuracy: 0.8048, loss: 0.7504185355607276\n",
      "Epoch: 4 of 20: Accuracy: 0.8419, loss: 0.6138348113420289\n",
      "Epoch: 5 of 20: Accuracy: 0.872, loss: 0.5139770957912234\n",
      "Epoch: 6 of 20: Accuracy: 0.8887, loss: 0.46791310038924355\n",
      "Epoch: 7 of 20: Accuracy: 0.9048, loss: 0.41128555374319187\n",
      "Epoch: 8 of 20: Accuracy: 0.9155, loss: 0.3778147686588346\n",
      "Epoch: 9 of 20: Accuracy: 0.9236, loss: 0.35157388051004945\n",
      "Epoch: 10 of 20: Accuracy: 0.9256, loss: 0.3384669834506579\n",
      "Epoch: 11 of 20: Accuracy: 0.9316, loss: 0.30965012353350146\n",
      "Epoch: 12 of 20: Accuracy: 0.9374, loss: 0.2827119855191469\n",
      "Epoch: 13 of 20: Accuracy: 0.9396, loss: 0.2607790519740996\n",
      "Epoch: 14 of 20: Accuracy: 0.9438, loss: 0.26975671291860387\n",
      "Epoch: 15 of 20: Accuracy: 0.9458, loss: 0.27493739375609066\n",
      "Epoch: 16 of 20: Accuracy: 0.9501, loss: 0.24697581388185832\n",
      "Epoch: 17 of 20: Accuracy: 0.9502, loss: 0.23540791537354294\n",
      "Epoch: 18 of 20: Accuracy: 0.953, loss: 0.24312336214927519\n",
      "Epoch: 19 of 20: Accuracy: 0.9514, loss: 0.2586134467684212\n"
     ]
    }
   ],
   "source": [
    "epochs = 20\n",
    "batch_size = 32\n",
    "learning_rate = 0.001\n",
    "\n",
    "\n",
    "weights_h1, bias_h1, weights_h2, bias_h2, weights_out, bias_out = create_network(X_train.shape[1], 10)\n",
    "\n",
    "# Adam optimizer params\n",
    "beta_1, beta_2, epsilon = 0.9, 0.999, 1e-8\n",
    "momentums = [\n",
    "    np.zeros(weights_h1.shape, dtype=weights_h1.dtype),\n",
    "    np.zeros(weights_h2.shape, dtype=weights_h2.dtype),\n",
    "    np.zeros(weights_out.shape, dtype=weights_out.dtype)\n",
    "]\n",
    "\n",
    "sum_of_square = [\n",
    "    np.zeros(weights_h1.shape, dtype=weights_h1.dtype),\n",
    "    np.zeros(weights_h2.shape, dtype=weights_h2.dtype),\n",
    "    np.zeros(weights_out.shape, dtype=weights_out.dtype)\n",
    "]\n",
    "\n",
    "\n",
    "# One hot encoding labels\n",
    "y_train_encoded = one_hot_encoded(y_train, total_classes=10)\n",
    "y_test_encoded = one_hot_encoded(y_test, total_classes=10)\n",
    "\n",
    "# Output results\n",
    "\n",
    "accs, losses = [], []\n",
    "\n",
    "for i in range(epochs): # For each epoch\n",
    "    # Shuffle the training data\n",
    "    idx = np.random.permutation(len(X_train))\n",
    "    x, y_encoded = X_train.copy()[idx, :], y_train_encoded.copy()[idx, :]\n",
    "    \n",
    "    for j in range(0, x.shape[0], batch_size): # For each batch\n",
    "        # Get the batch of data\n",
    "        x_batch, y_batch = x[j:j+batch_size, :], y_encoded[j:j+batch_size, :]\n",
    "        \n",
    "        # ===STEP 1: Feed forward to generate the output from each layer ===\n",
    "        \n",
    "        # Get the activated output of first hidden layer\n",
    "        y_h1 = feed_forward(x_batch, weights_h1, bias_h1, activation=relu)\n",
    "        \n",
    "        # Get the activated output of second hidden layer\n",
    "        y_h2 = feed_forward(y_h1, weights_h2, bias_h2, activation=relu)\n",
    "        \n",
    "        # Get the activated output of output layer\n",
    "        y_out = feed_forward(y_h2, weights_out, bias_out, activation=softmax)\n",
    "        \n",
    "        \n",
    "        # ===STEP 2: Compute error of the output layer===\n",
    "        \n",
    "        error_out = calculate_output_error(y_true=y_batch, y_pred=y_out)\n",
    "        \n",
    "        # ===STEP 3: Compute error of the hidden layers===\n",
    "        error_h2 = calculate_hidden_error(\n",
    "            error_next_layer=error_out, \n",
    "            weight_next_layer=weights_out, \n",
    "            non_activated_output_current_layer=derivative_relu(y_h2)\n",
    "        )\n",
    "        \n",
    "        error_h1 = calculate_hidden_error(\n",
    "            error_next_layer=error_h2, \n",
    "            weight_next_layer=weights_h2, \n",
    "            non_activated_output_current_layer=derivative_relu(y_h1)\n",
    "        )\n",
    "        \n",
    "        #===STEP 4: Compute gradient of the output & hidden layers===\n",
    "        grad_out_weight = calculate_weight_gradient(\n",
    "            error_current_layer=error_out, \n",
    "            input_current_layer=y_h2\n",
    "        )\n",
    "        grad_out_bias = calculate_bias_gradient(error_current_layer=error_out)\n",
    "        \n",
    "        grad_h2_weight = calculate_weight_gradient(\n",
    "            error_current_layer=error_h2, \n",
    "            input_current_layer=y_h1\n",
    "        )\n",
    "        grad_h2_bias = calculate_bias_gradient(error_current_layer=error_h2)\n",
    "        \n",
    "        \n",
    "        grad_h1_weight = calculate_weight_gradient(\n",
    "            error_current_layer=error_h1, \n",
    "            input_current_layer=x_batch\n",
    "        )\n",
    "        grad_h1_bias = calculate_bias_gradient(error_current_layer=error_h1)\n",
    "        \n",
    "        \n",
    "        #==STEP 5: Optmize the gradients using optimization algorithm===\n",
    "        momentums[2], sum_of_square[2], grad_out_weight = adam(\n",
    "            momentum=momentums[2], \n",
    "            sum_of_square=sum_of_square[2], \n",
    "            gradient_of_weight=grad_out_weight, \n",
    "            beta_1=beta_1, beta_2=beta_2, epsilon=epsilon\n",
    "        )\n",
    "        \n",
    "        momentums[1], sum_of_square[1], grad_h2_weight = adam(\n",
    "            momentum=momentums[1], \n",
    "            sum_of_square=sum_of_square[1], \n",
    "            gradient_of_weight=grad_h2_weight, \n",
    "            beta_1=beta_1, beta_2=beta_2, epsilon=epsilon\n",
    "        )\n",
    "        \n",
    "        momentums[0], sum_of_square[0], grad_h1_weight = adam(\n",
    "            momentum=momentums[0], \n",
    "            sum_of_square=sum_of_square[0], \n",
    "            gradient_of_weight=grad_h1_weight, \n",
    "            beta_1=beta_1, beta_2=beta_2, epsilon=epsilon\n",
    "        )\n",
    "        \n",
    "        #===STEP 6: Update the weights and biases\n",
    "        weights_out = update_weights(weights_out, grad_out_weight, learning_rate)\n",
    "        bias_out = update_biases(bias_out, grad_out_bias, learning_rate)\n",
    "        \n",
    "        weights_h2 = update_weights(weights_h2, grad_h2_weight, learning_rate)\n",
    "        bias_h2 = update_biases(bias_h2, grad_h2_bias, learning_rate)\n",
    "        \n",
    "        weights_h1 = update_weights(weights_h1, grad_h1_weight, learning_rate)\n",
    "        bias_h1 = update_biases(bias_h1, grad_h1_bias, learning_rate)\n",
    "    \n",
    "    #===STEP 7: Compute the accuracy and loss at the end of each epoch===\n",
    "    y_predicted = feed_forward(\n",
    "        feed_forward(\n",
    "            feed_forward(\n",
    "                X_test.copy(),\n",
    "                weights_h1,\n",
    "                bias_h1,\n",
    "                activation=relu\n",
    "            ),\n",
    "            weights_h2,\n",
    "            bias_h2,\n",
    "            activation=relu\n",
    "        ), \n",
    "        weights_out, \n",
    "        bias_out, \n",
    "        activation=softmax\n",
    "    )\n",
    "    \n",
    "    loss = categorical_crossentropy(y_true=y_test_encoded, y_pred=y_predicted)\n",
    "    acc = accuracy(y_true=y_test_encoded, y_pred=y_predicted)\n",
    "    accs.append(acc)\n",
    "    losses.append(loss)\n",
    "    print(f\"Epoch: {i} of {epochs}: Accuracy: {acc}, loss: {loss}\")"
   ]
  },
  {
   "cell_type": "markdown",
   "id": "321ad0e0",
   "metadata": {},
   "source": [
    "## Visualization"
   ]
  },
  {
   "cell_type": "code",
   "execution_count": 19,
   "id": "694efd05",
   "metadata": {},
   "outputs": [
    {
     "data": {
      "image/png": "[encoded data removed]",
      "text/plain": [
       "<Figure size 640x480 with 1 Axes>"
      ]
     },
     "metadata": {},
     "output_type": "display_data"
    }
   ],
   "source": [
    "plt.figure()\n",
    "plt.title(\"Accuracy\")\n",
    "plt.plot(accs)\n",
    "plt.grid()\n",
    "plt.show()"
   ]
  },
  {
   "cell_type": "code",
   "execution_count": 20,
   "id": "05311952",
   "metadata": {},
   "outputs": [
    {
     "data": {
      "image/png": "[encoded data removed]",
      "text/plain": [
       "<Figure size 640x480 with 1 Axes>"
      ]
     },
     "metadata": {},
     "output_type": "display_data"
    }
   ],
   "source": [
    "plt.figure()\n",
    "plt.title(\"Losses\")\n",
    "plt.plot(losses)\n",
    "plt.grid()\n",
    "plt.show()"
   ]
  },
  {
   "cell_type": "markdown",
   "id": "4d6c5154",
   "metadata": {},
   "source": [
    "### Predictions"
   ]
  },
  {
   "cell_type": "code",
   "execution_count": null,
   "id": "82908415",
   "metadata": {},
   "outputs": [],
   "source": [
    "# Plot some example predictions\n",
    "n_examples = 10\n",
    "indices = np.random.choice(len(X_test), n_examples)\n",
    "images = X_test[indices]\n",
    "labels = y_test[indices]\n",
    "predictions = feed_forward(\n",
    "        feed_forward(\n",
    "            feed_forward(\n",
    "                images.copy(),\n",
    "                weights_h1,\n",
    "                bias_h1,\n",
    "                activation=relu\n",
    "            ),\n",
    "            weights_h2,\n",
    "            bias_h2,\n",
    "            activation=relu\n",
    "        ), \n",
    "        weights_out, \n",
    "        bias_out, \n",
    "        activation=softmax\n",
    "    )\n",
    "plt.figure(figsize=(10, 10))\n",
    "for i in range(n_examples):\n",
    "    plt.subplot(1, n_examples, i+1)\n",
    "    plt.imshow(images[i].reshape(28, 28), cmap='gray')\n",
    "    plt.axis('off')\n",
    "    plt.title('True: {}\\nPred: {}'.format(labels[i], np.argmax(predictions[i])))\n",
    "plt.show()\n",
    "\n"
   ]
  }
 ],
 "metadata": {
  "kernelspec": {
   "display_name": "Python 3.9 (XPython)",
   "language": "python",
   "name": "xpython"
  },
  "language_info": {
   "file_extension": ".py",
   "mimetype": "text/x-python",
   "name": "python",
   "version": "3.9.13"
  }
 },
 "nbformat": 4,
 "nbformat_minor": 5
}
